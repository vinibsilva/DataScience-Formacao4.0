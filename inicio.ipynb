{
 "cells": [
  {
   "cell_type": "markdown",
   "id": "d64caa5f",
   "metadata": {},
   "source": [
    "# Conhecendo o Python\n",
    "\n",
    "Bem-vindo(a) ao estudo da lingugagem Python\n",
    "\n",
    "Podemos usar fórmulas matemáticas com o Markdown:\n",
    "$$ \\int_a^{b}f(x)dx$$\n",
    "---"
   ]
  },
  {
   "cell_type": "code",
   "execution_count": 2,
   "id": "aec13584",
   "metadata": {},
   "outputs": [
    {
     "name": "stdout",
     "output_type": "stream",
     "text": [
      "X vale  1\n",
      "Y vale  2.57\n"
     ]
    }
   ],
   "source": [
    "x = 1\n",
    "y = 2.57\n",
    "\n",
    "print(\"X vale \", x)\n",
    "print(\"Y vale \", y)"
   ]
  },
  {
   "cell_type": "code",
   "execution_count": 3,
   "id": "e7b8cafc",
   "metadata": {},
   "outputs": [
    {
     "data": {
      "text/plain": [
       "3.57"
      ]
     },
     "execution_count": 3,
     "metadata": {},
     "output_type": "execute_result"
    }
   ],
   "source": [
    "x+y"
   ]
  },
  {
   "cell_type": "code",
   "execution_count": 4,
   "id": "7b29a1af",
   "metadata": {},
   "outputs": [
    {
     "name": "stdout",
     "output_type": "stream",
     "text": [
      "Data Science\n"
     ]
    }
   ],
   "source": [
    "x = \"Data \"\n",
    "y = \"Science\"\n",
    "\n",
    "print(x+y)"
   ]
  },
  {
   "cell_type": "code",
   "execution_count": 6,
   "id": "42b06950",
   "metadata": {},
   "outputs": [],
   "source": [
    "None"
   ]
  },
  {
   "cell_type": "markdown",
   "id": "c50253a1",
   "metadata": {},
   "source": [
    "## Conhecendo os Tipos"
   ]
  },
  {
   "cell_type": "code",
   "execution_count": 9,
   "id": "43f54e7e",
   "metadata": {},
   "outputs": [
    {
     "data": {
      "text/plain": [
       "list"
      ]
     },
     "execution_count": 9,
     "metadata": {},
     "output_type": "execute_result"
    }
   ],
   "source": [
    "teste = [1,1]\n",
    "type(teste)"
   ]
  },
  {
   "cell_type": "code",
   "execution_count": null,
   "id": "7a67ffdd",
   "metadata": {},
   "outputs": [
    {
     "data": {
      "text/plain": [
       "3"
      ]
     },
     "execution_count": 10,
     "metadata": {},
     "output_type": "execute_result"
    }
   ],
   "source": [
    "int(3.99)"
   ]
  },
  {
   "cell_type": "markdown",
   "id": "8aee5946",
   "metadata": {},
   "source": [
    "## Trabalhando com o Pandas"
   ]
  },
  {
   "cell_type": "code",
   "execution_count": 14,
   "id": "4f506946",
   "metadata": {},
   "outputs": [
    {
     "data": {
      "text/plain": [
       "0        3\n",
       "1        7\n",
       "2        5\n",
       "3        6\n",
       "4    teste\n",
       "5        8\n",
       "6      NaN\n",
       "dtype: object"
      ]
     },
     "execution_count": 14,
     "metadata": {},
     "output_type": "execute_result"
    }
   ],
   "source": [
    "import pandas as pd\n",
    "import numpy as np\n",
    "\n",
    "serie = pd.Series([3,7,5,6,\"teste\",8, np.nan])\n",
    "serie"
   ]
  },
  {
   "cell_type": "code",
   "execution_count": 16,
   "id": "7f098e5b",
   "metadata": {},
   "outputs": [
    {
     "data": {
      "text/plain": [
       "0    3\n",
       "1    7\n",
       "2    5\n",
       "dtype: object"
      ]
     },
     "execution_count": 16,
     "metadata": {},
     "output_type": "execute_result"
    }
   ],
   "source": [
    "serie.head(3)"
   ]
  },
  {
   "cell_type": "code",
   "execution_count": 17,
   "id": "c37a6778",
   "metadata": {},
   "outputs": [
    {
     "data": {
      "text/plain": [
       "5      8\n",
       "6    NaN\n",
       "dtype: object"
      ]
     },
     "execution_count": 17,
     "metadata": {},
     "output_type": "execute_result"
    }
   ],
   "source": [
    "serie.tail(2)"
   ]
  },
  {
   "cell_type": "code",
   "execution_count": 18,
   "id": "8040d518",
   "metadata": {},
   "outputs": [
    {
     "data": {
      "text/plain": [
       "(7,)"
      ]
     },
     "execution_count": 18,
     "metadata": {},
     "output_type": "execute_result"
    }
   ],
   "source": [
    "serie.shape"
   ]
  },
  {
   "cell_type": "code",
   "execution_count": 20,
   "id": "8939bc4e",
   "metadata": {},
   "outputs": [
    {
     "data": {
      "text/plain": [
       "dtype('O')"
      ]
     },
     "execution_count": 20,
     "metadata": {},
     "output_type": "execute_result"
    }
   ],
   "source": [
    "serie.dtype"
   ]
  },
  {
   "cell_type": "code",
   "execution_count": 21,
   "id": "0a0fe83d",
   "metadata": {},
   "outputs": [
    {
     "data": {
      "text/plain": [
       "0    False\n",
       "1    False\n",
       "2    False\n",
       "3    False\n",
       "4    False\n",
       "5    False\n",
       "6     True\n",
       "dtype: bool"
      ]
     },
     "execution_count": 21,
     "metadata": {},
     "output_type": "execute_result"
    }
   ],
   "source": [
    "serie.isnull()"
   ]
  },
  {
   "cell_type": "code",
   "execution_count": null,
   "id": "1ac1b8da",
   "metadata": {},
   "outputs": [
    {
     "data": {
      "text/plain": [
       "6    NaN\n",
       "dtype: object"
      ]
     },
     "execution_count": 22,
     "metadata": {},
     "output_type": "execute_result"
    }
   ],
   "source": [
    "#Filtragem de dados\n",
    "serie[serie.isnull()]"
   ]
  },
  {
   "cell_type": "code",
   "execution_count": 23,
   "id": "995afde6",
   "metadata": {},
   "outputs": [
    {
     "data": {
      "text/plain": [
       "3        1\n",
       "7        1\n",
       "5        1\n",
       "6        1\n",
       "teste    1\n",
       "8        1\n",
       "Name: count, dtype: int64"
      ]
     },
     "execution_count": 23,
     "metadata": {},
     "output_type": "execute_result"
    }
   ],
   "source": [
    "serie.value_counts()"
   ]
  },
  {
   "cell_type": "code",
   "execution_count": 27,
   "id": "cde105ec",
   "metadata": {},
   "outputs": [],
   "source": [
    "data_int = pd.date_range(\"20250101\", periods=6, freq=\"ME\")\n"
   ]
  },
  {
   "cell_type": "code",
   "execution_count": 29,
   "id": "0166946b",
   "metadata": {},
   "outputs": [
    {
     "data": {
      "text/plain": [
       "Index(['31/01/2025', '28/02/2025', '31/03/2025', '30/04/2025', '31/05/2025',\n",
       "       '30/06/2025'],\n",
       "      dtype='object')"
      ]
     },
     "execution_count": 29,
     "metadata": {},
     "output_type": "execute_result"
    }
   ],
   "source": [
    "data_br = data_int.strftime(\"%d/%m/%Y\")\n",
    "data_br"
   ]
  },
  {
   "cell_type": "code",
   "execution_count": 31,
   "id": "dba89bfe",
   "metadata": {},
   "outputs": [],
   "source": [
    "df = pd.DataFrame(\n",
    "    np.random.randint(1,5, size=(6,4)),\n",
    "    index=data_br,\n",
    "    columns=list(\"ABCD\"))"
   ]
  },
  {
   "cell_type": "code",
   "execution_count": 32,
   "id": "b7aaf885",
   "metadata": {},
   "outputs": [
    {
     "data": {
      "application/vnd.microsoft.datawrangler.viewer.v0+json": {
       "columns": [
        {
         "name": "index",
         "rawType": "object",
         "type": "string"
        },
        {
         "name": "A",
         "rawType": "int32",
         "type": "integer"
        },
        {
         "name": "B",
         "rawType": "int32",
         "type": "integer"
        },
        {
         "name": "C",
         "rawType": "int32",
         "type": "integer"
        },
        {
         "name": "D",
         "rawType": "int32",
         "type": "integer"
        }
       ],
       "conversionMethod": "pd.DataFrame",
       "ref": "0f1cdb85-833d-4c35-afef-fa71d66457e5",
       "rows": [
        [
         "31/01/2025",
         "2",
         "2",
         "2",
         "4"
        ],
        [
         "28/02/2025",
         "3",
         "2",
         "1",
         "3"
        ],
        [
         "31/03/2025",
         "4",
         "2",
         "1",
         "2"
        ],
        [
         "30/04/2025",
         "3",
         "4",
         "1",
         "1"
        ],
        [
         "31/05/2025",
         "1",
         "2",
         "2",
         "1"
        ],
        [
         "30/06/2025",
         "4",
         "4",
         "1",
         "1"
        ]
       ],
       "shape": {
        "columns": 4,
        "rows": 6
       }
      },
      "text/html": [
       "<div>\n",
       "<style scoped>\n",
       "    .dataframe tbody tr th:only-of-type {\n",
       "        vertical-align: middle;\n",
       "    }\n",
       "\n",
       "    .dataframe tbody tr th {\n",
       "        vertical-align: top;\n",
       "    }\n",
       "\n",
       "    .dataframe thead th {\n",
       "        text-align: right;\n",
       "    }\n",
       "</style>\n",
       "<table border=\"1\" class=\"dataframe\">\n",
       "  <thead>\n",
       "    <tr style=\"text-align: right;\">\n",
       "      <th></th>\n",
       "      <th>A</th>\n",
       "      <th>B</th>\n",
       "      <th>C</th>\n",
       "      <th>D</th>\n",
       "    </tr>\n",
       "  </thead>\n",
       "  <tbody>\n",
       "    <tr>\n",
       "      <th>31/01/2025</th>\n",
       "      <td>2</td>\n",
       "      <td>2</td>\n",
       "      <td>2</td>\n",
       "      <td>4</td>\n",
       "    </tr>\n",
       "    <tr>\n",
       "      <th>28/02/2025</th>\n",
       "      <td>3</td>\n",
       "      <td>2</td>\n",
       "      <td>1</td>\n",
       "      <td>3</td>\n",
       "    </tr>\n",
       "    <tr>\n",
       "      <th>31/03/2025</th>\n",
       "      <td>4</td>\n",
       "      <td>2</td>\n",
       "      <td>1</td>\n",
       "      <td>2</td>\n",
       "    </tr>\n",
       "    <tr>\n",
       "      <th>30/04/2025</th>\n",
       "      <td>3</td>\n",
       "      <td>4</td>\n",
       "      <td>1</td>\n",
       "      <td>1</td>\n",
       "    </tr>\n",
       "    <tr>\n",
       "      <th>31/05/2025</th>\n",
       "      <td>1</td>\n",
       "      <td>2</td>\n",
       "      <td>2</td>\n",
       "      <td>1</td>\n",
       "    </tr>\n",
       "    <tr>\n",
       "      <th>30/06/2025</th>\n",
       "      <td>4</td>\n",
       "      <td>4</td>\n",
       "      <td>1</td>\n",
       "      <td>1</td>\n",
       "    </tr>\n",
       "  </tbody>\n",
       "</table>\n",
       "</div>"
      ],
      "text/plain": [
       "            A  B  C  D\n",
       "31/01/2025  2  2  2  4\n",
       "28/02/2025  3  2  1  3\n",
       "31/03/2025  4  2  1  2\n",
       "30/04/2025  3  4  1  1\n",
       "31/05/2025  1  2  2  1\n",
       "30/06/2025  4  4  1  1"
      ]
     },
     "execution_count": 32,
     "metadata": {},
     "output_type": "execute_result"
    }
   ],
   "source": [
    "df"
   ]
  },
  {
   "cell_type": "code",
   "execution_count": 33,
   "id": "6658b140",
   "metadata": {},
   "outputs": [
    {
     "data": {
      "application/vnd.microsoft.datawrangler.viewer.v0+json": {
       "columns": [
        {
         "name": "index",
         "rawType": "object",
         "type": "string"
        },
        {
         "name": "A",
         "rawType": "int32",
         "type": "integer"
        },
        {
         "name": "B",
         "rawType": "int32",
         "type": "integer"
        },
        {
         "name": "C",
         "rawType": "int32",
         "type": "integer"
        },
        {
         "name": "D",
         "rawType": "int32",
         "type": "integer"
        }
       ],
       "conversionMethod": "pd.DataFrame",
       "ref": "7f2a7c73-5b14-4365-93e7-21ce29859e9e",
       "rows": [
        [
         "31/01/2025",
         "2",
         "2",
         "2",
         "4"
        ],
        [
         "28/02/2025",
         "3",
         "2",
         "1",
         "3"
        ],
        [
         "31/03/2025",
         "4",
         "2",
         "1",
         "2"
        ]
       ],
       "shape": {
        "columns": 4,
        "rows": 3
       }
      },
      "text/html": [
       "<div>\n",
       "<style scoped>\n",
       "    .dataframe tbody tr th:only-of-type {\n",
       "        vertical-align: middle;\n",
       "    }\n",
       "\n",
       "    .dataframe tbody tr th {\n",
       "        vertical-align: top;\n",
       "    }\n",
       "\n",
       "    .dataframe thead th {\n",
       "        text-align: right;\n",
       "    }\n",
       "</style>\n",
       "<table border=\"1\" class=\"dataframe\">\n",
       "  <thead>\n",
       "    <tr style=\"text-align: right;\">\n",
       "      <th></th>\n",
       "      <th>A</th>\n",
       "      <th>B</th>\n",
       "      <th>C</th>\n",
       "      <th>D</th>\n",
       "    </tr>\n",
       "  </thead>\n",
       "  <tbody>\n",
       "    <tr>\n",
       "      <th>31/01/2025</th>\n",
       "      <td>2</td>\n",
       "      <td>2</td>\n",
       "      <td>2</td>\n",
       "      <td>4</td>\n",
       "    </tr>\n",
       "    <tr>\n",
       "      <th>28/02/2025</th>\n",
       "      <td>3</td>\n",
       "      <td>2</td>\n",
       "      <td>1</td>\n",
       "      <td>3</td>\n",
       "    </tr>\n",
       "    <tr>\n",
       "      <th>31/03/2025</th>\n",
       "      <td>4</td>\n",
       "      <td>2</td>\n",
       "      <td>1</td>\n",
       "      <td>2</td>\n",
       "    </tr>\n",
       "  </tbody>\n",
       "</table>\n",
       "</div>"
      ],
      "text/plain": [
       "            A  B  C  D\n",
       "31/01/2025  2  2  2  4\n",
       "28/02/2025  3  2  1  3\n",
       "31/03/2025  4  2  1  2"
      ]
     },
     "execution_count": 33,
     "metadata": {},
     "output_type": "execute_result"
    }
   ],
   "source": [
    "df.head(3)"
   ]
  },
  {
   "cell_type": "code",
   "execution_count": 36,
   "id": "1ab426f1",
   "metadata": {},
   "outputs": [],
   "source": [
    "df.columns = ['a', 'b', 'c', 'd']"
   ]
  },
  {
   "cell_type": "code",
   "execution_count": 38,
   "id": "5e3eb3d7",
   "metadata": {},
   "outputs": [],
   "source": [
    "df.columns = ['col1','col2','col3','col4']"
   ]
  },
  {
   "cell_type": "code",
   "execution_count": 39,
   "id": "dbd22a14",
   "metadata": {},
   "outputs": [
    {
     "data": {
      "application/vnd.microsoft.datawrangler.viewer.v0+json": {
       "columns": [
        {
         "name": "index",
         "rawType": "object",
         "type": "string"
        },
        {
         "name": "col1",
         "rawType": "int32",
         "type": "integer"
        },
        {
         "name": "col2",
         "rawType": "int32",
         "type": "integer"
        },
        {
         "name": "col3",
         "rawType": "int32",
         "type": "integer"
        },
        {
         "name": "col4",
         "rawType": "int32",
         "type": "integer"
        }
       ],
       "conversionMethod": "pd.DataFrame",
       "ref": "12ab6916-7bc3-4db8-be87-4f08398e5e40",
       "rows": [
        [
         "31/01/2025",
         "2",
         "2",
         "2",
         "4"
        ],
        [
         "28/02/2025",
         "3",
         "2",
         "1",
         "3"
        ],
        [
         "31/03/2025",
         "4",
         "2",
         "1",
         "2"
        ],
        [
         "30/04/2025",
         "3",
         "4",
         "1",
         "1"
        ],
        [
         "31/05/2025",
         "1",
         "2",
         "2",
         "1"
        ],
        [
         "30/06/2025",
         "4",
         "4",
         "1",
         "1"
        ]
       ],
       "shape": {
        "columns": 4,
        "rows": 6
       }
      },
      "text/html": [
       "<div>\n",
       "<style scoped>\n",
       "    .dataframe tbody tr th:only-of-type {\n",
       "        vertical-align: middle;\n",
       "    }\n",
       "\n",
       "    .dataframe tbody tr th {\n",
       "        vertical-align: top;\n",
       "    }\n",
       "\n",
       "    .dataframe thead th {\n",
       "        text-align: right;\n",
       "    }\n",
       "</style>\n",
       "<table border=\"1\" class=\"dataframe\">\n",
       "  <thead>\n",
       "    <tr style=\"text-align: right;\">\n",
       "      <th></th>\n",
       "      <th>col1</th>\n",
       "      <th>col2</th>\n",
       "      <th>col3</th>\n",
       "      <th>col4</th>\n",
       "    </tr>\n",
       "  </thead>\n",
       "  <tbody>\n",
       "    <tr>\n",
       "      <th>31/01/2025</th>\n",
       "      <td>2</td>\n",
       "      <td>2</td>\n",
       "      <td>2</td>\n",
       "      <td>4</td>\n",
       "    </tr>\n",
       "    <tr>\n",
       "      <th>28/02/2025</th>\n",
       "      <td>3</td>\n",
       "      <td>2</td>\n",
       "      <td>1</td>\n",
       "      <td>3</td>\n",
       "    </tr>\n",
       "    <tr>\n",
       "      <th>31/03/2025</th>\n",
       "      <td>4</td>\n",
       "      <td>2</td>\n",
       "      <td>1</td>\n",
       "      <td>2</td>\n",
       "    </tr>\n",
       "    <tr>\n",
       "      <th>30/04/2025</th>\n",
       "      <td>3</td>\n",
       "      <td>4</td>\n",
       "      <td>1</td>\n",
       "      <td>1</td>\n",
       "    </tr>\n",
       "    <tr>\n",
       "      <th>31/05/2025</th>\n",
       "      <td>1</td>\n",
       "      <td>2</td>\n",
       "      <td>2</td>\n",
       "      <td>1</td>\n",
       "    </tr>\n",
       "    <tr>\n",
       "      <th>30/06/2025</th>\n",
       "      <td>4</td>\n",
       "      <td>4</td>\n",
       "      <td>1</td>\n",
       "      <td>1</td>\n",
       "    </tr>\n",
       "  </tbody>\n",
       "</table>\n",
       "</div>"
      ],
      "text/plain": [
       "            col1  col2  col3  col4\n",
       "31/01/2025     2     2     2     4\n",
       "28/02/2025     3     2     1     3\n",
       "31/03/2025     4     2     1     2\n",
       "30/04/2025     3     4     1     1\n",
       "31/05/2025     1     2     2     1\n",
       "30/06/2025     4     4     1     1"
      ]
     },
     "execution_count": 39,
     "metadata": {},
     "output_type": "execute_result"
    }
   ],
   "source": [
    "df"
   ]
  },
  {
   "cell_type": "code",
   "execution_count": 47,
   "id": "f811568a",
   "metadata": {},
   "outputs": [],
   "source": [
    "df['col5'] = pd.Series([1,2,3,4,5,6], index=data_br)"
   ]
  },
  {
   "cell_type": "code",
   "execution_count": 48,
   "id": "4df88de8",
   "metadata": {},
   "outputs": [
    {
     "data": {
      "application/vnd.microsoft.datawrangler.viewer.v0+json": {
       "columns": [
        {
         "name": "index",
         "rawType": "object",
         "type": "string"
        },
        {
         "name": "col1",
         "rawType": "int32",
         "type": "integer"
        },
        {
         "name": "col2",
         "rawType": "int32",
         "type": "integer"
        },
        {
         "name": "col3",
         "rawType": "int32",
         "type": "integer"
        },
        {
         "name": "col4",
         "rawType": "int32",
         "type": "integer"
        },
        {
         "name": "col5",
         "rawType": "int64",
         "type": "integer"
        }
       ],
       "conversionMethod": "pd.DataFrame",
       "ref": "ba4cb3b4-f1ac-4b89-999c-d16e23b035eb",
       "rows": [
        [
         "31/01/2025",
         "2",
         "2",
         "2",
         "4",
         "1"
        ],
        [
         "28/02/2025",
         "3",
         "2",
         "1",
         "3",
         "2"
        ],
        [
         "31/03/2025",
         "4",
         "2",
         "1",
         "2",
         "3"
        ],
        [
         "30/04/2025",
         "3",
         "4",
         "1",
         "1",
         "4"
        ],
        [
         "31/05/2025",
         "1",
         "2",
         "2",
         "1",
         "5"
        ],
        [
         "30/06/2025",
         "4",
         "4",
         "1",
         "1",
         "6"
        ]
       ],
       "shape": {
        "columns": 5,
        "rows": 6
       }
      },
      "text/html": [
       "<div>\n",
       "<style scoped>\n",
       "    .dataframe tbody tr th:only-of-type {\n",
       "        vertical-align: middle;\n",
       "    }\n",
       "\n",
       "    .dataframe tbody tr th {\n",
       "        vertical-align: top;\n",
       "    }\n",
       "\n",
       "    .dataframe thead th {\n",
       "        text-align: right;\n",
       "    }\n",
       "</style>\n",
       "<table border=\"1\" class=\"dataframe\">\n",
       "  <thead>\n",
       "    <tr style=\"text-align: right;\">\n",
       "      <th></th>\n",
       "      <th>col1</th>\n",
       "      <th>col2</th>\n",
       "      <th>col3</th>\n",
       "      <th>col4</th>\n",
       "      <th>col5</th>\n",
       "    </tr>\n",
       "  </thead>\n",
       "  <tbody>\n",
       "    <tr>\n",
       "      <th>31/01/2025</th>\n",
       "      <td>2</td>\n",
       "      <td>2</td>\n",
       "      <td>2</td>\n",
       "      <td>4</td>\n",
       "      <td>1</td>\n",
       "    </tr>\n",
       "    <tr>\n",
       "      <th>28/02/2025</th>\n",
       "      <td>3</td>\n",
       "      <td>2</td>\n",
       "      <td>1</td>\n",
       "      <td>3</td>\n",
       "      <td>2</td>\n",
       "    </tr>\n",
       "    <tr>\n",
       "      <th>31/03/2025</th>\n",
       "      <td>4</td>\n",
       "      <td>2</td>\n",
       "      <td>1</td>\n",
       "      <td>2</td>\n",
       "      <td>3</td>\n",
       "    </tr>\n",
       "    <tr>\n",
       "      <th>30/04/2025</th>\n",
       "      <td>3</td>\n",
       "      <td>4</td>\n",
       "      <td>1</td>\n",
       "      <td>1</td>\n",
       "      <td>4</td>\n",
       "    </tr>\n",
       "    <tr>\n",
       "      <th>31/05/2025</th>\n",
       "      <td>1</td>\n",
       "      <td>2</td>\n",
       "      <td>2</td>\n",
       "      <td>1</td>\n",
       "      <td>5</td>\n",
       "    </tr>\n",
       "    <tr>\n",
       "      <th>30/06/2025</th>\n",
       "      <td>4</td>\n",
       "      <td>4</td>\n",
       "      <td>1</td>\n",
       "      <td>1</td>\n",
       "      <td>6</td>\n",
       "    </tr>\n",
       "  </tbody>\n",
       "</table>\n",
       "</div>"
      ],
      "text/plain": [
       "            col1  col2  col3  col4  col5\n",
       "31/01/2025     2     2     2     4     1\n",
       "28/02/2025     3     2     1     3     2\n",
       "31/03/2025     4     2     1     2     3\n",
       "30/04/2025     3     4     1     1     4\n",
       "31/05/2025     1     2     2     1     5\n",
       "30/06/2025     4     4     1     1     6"
      ]
     },
     "execution_count": 48,
     "metadata": {},
     "output_type": "execute_result"
    }
   ],
   "source": [
    "df"
   ]
  },
  {
   "cell_type": "code",
   "execution_count": 49,
   "id": "0ca33c93",
   "metadata": {},
   "outputs": [
    {
     "name": "stdout",
     "output_type": "stream",
     "text": [
      "<class 'pandas.core.frame.DataFrame'>\n",
      "Index: 6 entries, 31/01/2025 to 30/06/2025\n",
      "Data columns (total 5 columns):\n",
      " #   Column  Non-Null Count  Dtype\n",
      "---  ------  --------------  -----\n",
      " 0   col1    6 non-null      int32\n",
      " 1   col2    6 non-null      int32\n",
      " 2   col3    6 non-null      int32\n",
      " 3   col4    6 non-null      int32\n",
      " 4   col5    6 non-null      int64\n",
      "dtypes: int32(4), int64(1)\n",
      "memory usage: 364.0+ bytes\n"
     ]
    }
   ],
   "source": [
    "df.info()"
   ]
  },
  {
   "cell_type": "code",
   "execution_count": 50,
   "id": "4f2ac3a7",
   "metadata": {},
   "outputs": [
    {
     "data": {
      "application/vnd.microsoft.datawrangler.viewer.v0+json": {
       "columns": [
        {
         "name": "index",
         "rawType": "object",
         "type": "string"
        },
        {
         "name": "col1",
         "rawType": "float64",
         "type": "float"
        },
        {
         "name": "col2",
         "rawType": "float64",
         "type": "float"
        },
        {
         "name": "col3",
         "rawType": "float64",
         "type": "float"
        },
        {
         "name": "col4",
         "rawType": "float64",
         "type": "float"
        },
        {
         "name": "col5",
         "rawType": "float64",
         "type": "float"
        }
       ],
       "conversionMethod": "pd.DataFrame",
       "ref": "da9a7091-3490-4801-9032-263d9f9bdd11",
       "rows": [
        [
         "count",
         "6.0",
         "6.0",
         "6.0",
         "6.0",
         "6.0"
        ],
        [
         "mean",
         "2.8333333333333335",
         "2.6666666666666665",
         "1.3333333333333333",
         "2.0",
         "3.5"
        ],
        [
         "std",
         "1.1690451944500122",
         "1.0327955589886444",
         "0.5163977794943223",
         "1.2649110640673518",
         "1.8708286933869707"
        ],
        [
         "min",
         "1.0",
         "2.0",
         "1.0",
         "1.0",
         "1.0"
        ],
        [
         "25%",
         "2.25",
         "2.0",
         "1.0",
         "1.0",
         "2.25"
        ],
        [
         "50%",
         "3.0",
         "2.0",
         "1.0",
         "1.5",
         "3.5"
        ],
        [
         "75%",
         "3.75",
         "3.5",
         "1.75",
         "2.75",
         "4.75"
        ],
        [
         "max",
         "4.0",
         "4.0",
         "2.0",
         "4.0",
         "6.0"
        ]
       ],
       "shape": {
        "columns": 5,
        "rows": 8
       }
      },
      "text/html": [
       "<div>\n",
       "<style scoped>\n",
       "    .dataframe tbody tr th:only-of-type {\n",
       "        vertical-align: middle;\n",
       "    }\n",
       "\n",
       "    .dataframe tbody tr th {\n",
       "        vertical-align: top;\n",
       "    }\n",
       "\n",
       "    .dataframe thead th {\n",
       "        text-align: right;\n",
       "    }\n",
       "</style>\n",
       "<table border=\"1\" class=\"dataframe\">\n",
       "  <thead>\n",
       "    <tr style=\"text-align: right;\">\n",
       "      <th></th>\n",
       "      <th>col1</th>\n",
       "      <th>col2</th>\n",
       "      <th>col3</th>\n",
       "      <th>col4</th>\n",
       "      <th>col5</th>\n",
       "    </tr>\n",
       "  </thead>\n",
       "  <tbody>\n",
       "    <tr>\n",
       "      <th>count</th>\n",
       "      <td>6.000000</td>\n",
       "      <td>6.000000</td>\n",
       "      <td>6.000000</td>\n",
       "      <td>6.000000</td>\n",
       "      <td>6.000000</td>\n",
       "    </tr>\n",
       "    <tr>\n",
       "      <th>mean</th>\n",
       "      <td>2.833333</td>\n",
       "      <td>2.666667</td>\n",
       "      <td>1.333333</td>\n",
       "      <td>2.000000</td>\n",
       "      <td>3.500000</td>\n",
       "    </tr>\n",
       "    <tr>\n",
       "      <th>std</th>\n",
       "      <td>1.169045</td>\n",
       "      <td>1.032796</td>\n",
       "      <td>0.516398</td>\n",
       "      <td>1.264911</td>\n",
       "      <td>1.870829</td>\n",
       "    </tr>\n",
       "    <tr>\n",
       "      <th>min</th>\n",
       "      <td>1.000000</td>\n",
       "      <td>2.000000</td>\n",
       "      <td>1.000000</td>\n",
       "      <td>1.000000</td>\n",
       "      <td>1.000000</td>\n",
       "    </tr>\n",
       "    <tr>\n",
       "      <th>25%</th>\n",
       "      <td>2.250000</td>\n",
       "      <td>2.000000</td>\n",
       "      <td>1.000000</td>\n",
       "      <td>1.000000</td>\n",
       "      <td>2.250000</td>\n",
       "    </tr>\n",
       "    <tr>\n",
       "      <th>50%</th>\n",
       "      <td>3.000000</td>\n",
       "      <td>2.000000</td>\n",
       "      <td>1.000000</td>\n",
       "      <td>1.500000</td>\n",
       "      <td>3.500000</td>\n",
       "    </tr>\n",
       "    <tr>\n",
       "      <th>75%</th>\n",
       "      <td>3.750000</td>\n",
       "      <td>3.500000</td>\n",
       "      <td>1.750000</td>\n",
       "      <td>2.750000</td>\n",
       "      <td>4.750000</td>\n",
       "    </tr>\n",
       "    <tr>\n",
       "      <th>max</th>\n",
       "      <td>4.000000</td>\n",
       "      <td>4.000000</td>\n",
       "      <td>2.000000</td>\n",
       "      <td>4.000000</td>\n",
       "      <td>6.000000</td>\n",
       "    </tr>\n",
       "  </tbody>\n",
       "</table>\n",
       "</div>"
      ],
      "text/plain": [
       "           col1      col2      col3      col4      col5\n",
       "count  6.000000  6.000000  6.000000  6.000000  6.000000\n",
       "mean   2.833333  2.666667  1.333333  2.000000  3.500000\n",
       "std    1.169045  1.032796  0.516398  1.264911  1.870829\n",
       "min    1.000000  2.000000  1.000000  1.000000  1.000000\n",
       "25%    2.250000  2.000000  1.000000  1.000000  2.250000\n",
       "50%    3.000000  2.000000  1.000000  1.500000  3.500000\n",
       "75%    3.750000  3.500000  1.750000  2.750000  4.750000\n",
       "max    4.000000  4.000000  2.000000  4.000000  6.000000"
      ]
     },
     "execution_count": 50,
     "metadata": {},
     "output_type": "execute_result"
    }
   ],
   "source": [
    "df.describe()"
   ]
  },
  {
   "cell_type": "code",
   "execution_count": 52,
   "id": "e1700524",
   "metadata": {},
   "outputs": [],
   "source": [
    "df['col6'] = pd.Series(['a','b','c','d','e','f'], index=data_br)"
   ]
  },
  {
   "cell_type": "code",
   "execution_count": 53,
   "id": "f9b0d85b",
   "metadata": {},
   "outputs": [
    {
     "data": {
      "application/vnd.microsoft.datawrangler.viewer.v0+json": {
       "columns": [
        {
         "name": "index",
         "rawType": "object",
         "type": "string"
        },
        {
         "name": "col1",
         "rawType": "float64",
         "type": "float"
        },
        {
         "name": "col2",
         "rawType": "float64",
         "type": "float"
        },
        {
         "name": "col3",
         "rawType": "float64",
         "type": "float"
        },
        {
         "name": "col4",
         "rawType": "float64",
         "type": "float"
        },
        {
         "name": "col5",
         "rawType": "float64",
         "type": "float"
        }
       ],
       "conversionMethod": "pd.DataFrame",
       "ref": "cd09206d-1745-45b9-8891-5599eec3bb78",
       "rows": [
        [
         "count",
         "6.0",
         "6.0",
         "6.0",
         "6.0",
         "6.0"
        ],
        [
         "mean",
         "2.8333333333333335",
         "2.6666666666666665",
         "1.3333333333333333",
         "2.0",
         "3.5"
        ],
        [
         "std",
         "1.1690451944500122",
         "1.0327955589886444",
         "0.5163977794943223",
         "1.2649110640673518",
         "1.8708286933869707"
        ],
        [
         "min",
         "1.0",
         "2.0",
         "1.0",
         "1.0",
         "1.0"
        ],
        [
         "25%",
         "2.25",
         "2.0",
         "1.0",
         "1.0",
         "2.25"
        ],
        [
         "50%",
         "3.0",
         "2.0",
         "1.0",
         "1.5",
         "3.5"
        ],
        [
         "75%",
         "3.75",
         "3.5",
         "1.75",
         "2.75",
         "4.75"
        ],
        [
         "max",
         "4.0",
         "4.0",
         "2.0",
         "4.0",
         "6.0"
        ]
       ],
       "shape": {
        "columns": 5,
        "rows": 8
       }
      },
      "text/html": [
       "<div>\n",
       "<style scoped>\n",
       "    .dataframe tbody tr th:only-of-type {\n",
       "        vertical-align: middle;\n",
       "    }\n",
       "\n",
       "    .dataframe tbody tr th {\n",
       "        vertical-align: top;\n",
       "    }\n",
       "\n",
       "    .dataframe thead th {\n",
       "        text-align: right;\n",
       "    }\n",
       "</style>\n",
       "<table border=\"1\" class=\"dataframe\">\n",
       "  <thead>\n",
       "    <tr style=\"text-align: right;\">\n",
       "      <th></th>\n",
       "      <th>col1</th>\n",
       "      <th>col2</th>\n",
       "      <th>col3</th>\n",
       "      <th>col4</th>\n",
       "      <th>col5</th>\n",
       "    </tr>\n",
       "  </thead>\n",
       "  <tbody>\n",
       "    <tr>\n",
       "      <th>count</th>\n",
       "      <td>6.000000</td>\n",
       "      <td>6.000000</td>\n",
       "      <td>6.000000</td>\n",
       "      <td>6.000000</td>\n",
       "      <td>6.000000</td>\n",
       "    </tr>\n",
       "    <tr>\n",
       "      <th>mean</th>\n",
       "      <td>2.833333</td>\n",
       "      <td>2.666667</td>\n",
       "      <td>1.333333</td>\n",
       "      <td>2.000000</td>\n",
       "      <td>3.500000</td>\n",
       "    </tr>\n",
       "    <tr>\n",
       "      <th>std</th>\n",
       "      <td>1.169045</td>\n",
       "      <td>1.032796</td>\n",
       "      <td>0.516398</td>\n",
       "      <td>1.264911</td>\n",
       "      <td>1.870829</td>\n",
       "    </tr>\n",
       "    <tr>\n",
       "      <th>min</th>\n",
       "      <td>1.000000</td>\n",
       "      <td>2.000000</td>\n",
       "      <td>1.000000</td>\n",
       "      <td>1.000000</td>\n",
       "      <td>1.000000</td>\n",
       "    </tr>\n",
       "    <tr>\n",
       "      <th>25%</th>\n",
       "      <td>2.250000</td>\n",
       "      <td>2.000000</td>\n",
       "      <td>1.000000</td>\n",
       "      <td>1.000000</td>\n",
       "      <td>2.250000</td>\n",
       "    </tr>\n",
       "    <tr>\n",
       "      <th>50%</th>\n",
       "      <td>3.000000</td>\n",
       "      <td>2.000000</td>\n",
       "      <td>1.000000</td>\n",
       "      <td>1.500000</td>\n",
       "      <td>3.500000</td>\n",
       "    </tr>\n",
       "    <tr>\n",
       "      <th>75%</th>\n",
       "      <td>3.750000</td>\n",
       "      <td>3.500000</td>\n",
       "      <td>1.750000</td>\n",
       "      <td>2.750000</td>\n",
       "      <td>4.750000</td>\n",
       "    </tr>\n",
       "    <tr>\n",
       "      <th>max</th>\n",
       "      <td>4.000000</td>\n",
       "      <td>4.000000</td>\n",
       "      <td>2.000000</td>\n",
       "      <td>4.000000</td>\n",
       "      <td>6.000000</td>\n",
       "    </tr>\n",
       "  </tbody>\n",
       "</table>\n",
       "</div>"
      ],
      "text/plain": [
       "           col1      col2      col3      col4      col5\n",
       "count  6.000000  6.000000  6.000000  6.000000  6.000000\n",
       "mean   2.833333  2.666667  1.333333  2.000000  3.500000\n",
       "std    1.169045  1.032796  0.516398  1.264911  1.870829\n",
       "min    1.000000  2.000000  1.000000  1.000000  1.000000\n",
       "25%    2.250000  2.000000  1.000000  1.000000  2.250000\n",
       "50%    3.000000  2.000000  1.000000  1.500000  3.500000\n",
       "75%    3.750000  3.500000  1.750000  2.750000  4.750000\n",
       "max    4.000000  4.000000  2.000000  4.000000  6.000000"
      ]
     },
     "execution_count": 53,
     "metadata": {},
     "output_type": "execute_result"
    }
   ],
   "source": [
    "df.describe()"
   ]
  },
  {
   "cell_type": "code",
   "execution_count": 54,
   "id": "9349c5ef",
   "metadata": {},
   "outputs": [
    {
     "data": {
      "application/vnd.microsoft.datawrangler.viewer.v0+json": {
       "columns": [
        {
         "name": "index",
         "rawType": "object",
         "type": "string"
        },
        {
         "name": "col6",
         "rawType": "object",
         "type": "unknown"
        }
       ],
       "conversionMethod": "pd.DataFrame",
       "ref": "7292d48e-bb48-4fc6-aa3d-8cbd3ecb246e",
       "rows": [
        [
         "count",
         "6"
        ],
        [
         "unique",
         "6"
        ],
        [
         "top",
         "a"
        ],
        [
         "freq",
         "1"
        ]
       ],
       "shape": {
        "columns": 1,
        "rows": 4
       }
      },
      "text/html": [
       "<div>\n",
       "<style scoped>\n",
       "    .dataframe tbody tr th:only-of-type {\n",
       "        vertical-align: middle;\n",
       "    }\n",
       "\n",
       "    .dataframe tbody tr th {\n",
       "        vertical-align: top;\n",
       "    }\n",
       "\n",
       "    .dataframe thead th {\n",
       "        text-align: right;\n",
       "    }\n",
       "</style>\n",
       "<table border=\"1\" class=\"dataframe\">\n",
       "  <thead>\n",
       "    <tr style=\"text-align: right;\">\n",
       "      <th></th>\n",
       "      <th>col6</th>\n",
       "    </tr>\n",
       "  </thead>\n",
       "  <tbody>\n",
       "    <tr>\n",
       "      <th>count</th>\n",
       "      <td>6</td>\n",
       "    </tr>\n",
       "    <tr>\n",
       "      <th>unique</th>\n",
       "      <td>6</td>\n",
       "    </tr>\n",
       "    <tr>\n",
       "      <th>top</th>\n",
       "      <td>a</td>\n",
       "    </tr>\n",
       "    <tr>\n",
       "      <th>freq</th>\n",
       "      <td>1</td>\n",
       "    </tr>\n",
       "  </tbody>\n",
       "</table>\n",
       "</div>"
      ],
      "text/plain": [
       "       col6\n",
       "count     6\n",
       "unique    6\n",
       "top       a\n",
       "freq      1"
      ]
     },
     "execution_count": 54,
     "metadata": {},
     "output_type": "execute_result"
    }
   ],
   "source": [
    "df.describe(include='O')"
   ]
  }
 ],
 "metadata": {
  "kernelspec": {
   "display_name": ".venv",
   "language": "python",
   "name": "python3"
  },
  "language_info": {
   "codemirror_mode": {
    "name": "ipython",
    "version": 3
   },
   "file_extension": ".py",
   "mimetype": "text/x-python",
   "name": "python",
   "nbconvert_exporter": "python",
   "pygments_lexer": "ipython3",
   "version": "3.13.3"
  }
 },
 "nbformat": 4,
 "nbformat_minor": 5
}
